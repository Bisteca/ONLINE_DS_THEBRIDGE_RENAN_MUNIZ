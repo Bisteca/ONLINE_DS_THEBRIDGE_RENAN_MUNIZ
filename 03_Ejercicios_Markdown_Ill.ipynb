{
 "cells": [
  {
   "cell_type": "markdown",
   "id": "59ec229f",
   "metadata": {
    "id": "59ec229f"
   },
   "source": [
    "<img src=\"./img/TheBridge_logo_RGB_color.jpg\" width = 500>"
   ]
  },
  {
   "cell_type": "markdown",
   "id": "30a2c01b",
   "metadata": {
    "id": "30a2c01b"
   },
   "source": [
    "# EJERCICIOS MARKDOWN (I)"
   ]
  },
  {
   "cell_type": "markdown",
   "id": "e165fb0c",
   "metadata": {
    "id": "e165fb0c"
   },
   "source": [
    "Aquí tienes cinco sencillos ejercicios para practicar lo aprendido en la primera sesión de Markdown. Utiliza las celdas que hay debajo de cada enunciado y recuerda convertirlas a Markdown primero ;-)"
   ]
  },
  {
   "cell_type": "markdown",
   "id": "5f74096f",
   "metadata": {
    "id": "5f74096f"
   },
   "source": [
    "\n",
    "\n",
    "### Ejercicio 1: Cabeceras\n",
    "Crea las siguientes cabeceras:\n",
    "\n",
    "1. Una cabecera de nivel 1 con el texto \"Ciencia de Datos\".\n",
    "2. Una cabecera de nivel 2 con el texto \"Introducción\".\n",
    "3. Una cabecera de nivel 3 con el texto \"Herramientas\"."
   ]
  },
  {
   "cell_type": "markdown",
   "id": "29c3271c-e2c2-497f-afa2-34fd6400a893",
   "metadata": {},
   "source": [
    "RENAN MUNIZ\n",
    "# Ciencia de Datos\n",
    "## Introduccion\n",
    "### Herramientas"
   ]
  },
  {
   "cell_type": "markdown",
   "id": "4b636168",
   "metadata": {
    "id": "4b636168"
   },
   "source": [
    "### Ejercicio 2: Estilos de texto\n",
    "Escribe una frase que contenga las siguientes características:\n",
    "\n",
    "1. La palabra \"Markdown\" en negritas.\n",
    "2. La palabra \"Jupyter\" en cursivas.\n",
    "3. La palabra \"Python\" en negritas y cursivas."
   ]
  },
  {
   "cell_type": "markdown",
   "id": "f06a4c68-4260-4157-8f75-91e320209fb2",
   "metadata": {},
   "source": [
    "RENAN MUNIZ\\\n",
    "Este es un ejemplo de cómo usar **Markdown** en *Jupyter* con ***Python***.\n"
   ]
  },
  {
   "cell_type": "markdown",
   "id": "z1oHZHg1AFw2",
   "metadata": {
    "id": "z1oHZHg1AFw2"
   },
   "source": [
    "Estoy apriendiendo a utilizar **Markdown** y se que lo dominaré.  \n",
    "Creo que tengo otra versión de *Jupyter* porque me sale al lado la reproducción directamente.  \n",
    "Tengo muchas ganas de aprender ***Python***.\n",
    "\n"
   ]
  },
  {
   "cell_type": "markdown",
   "id": "ODrEW_8N4aCh",
   "metadata": {
    "id": "ODrEW_8N4aCh"
   },
   "source": [
    "Aquí, con **Markdown**  \n",
    "Y *Jupyter* se ha unido al grupo  \n",
    "¿Ganas? Ganazas de aprender ***Python***"
   ]
  },
  {
   "cell_type": "markdown",
   "id": "61fd2979",
   "metadata": {
    "id": "61fd2979"
   },
   "source": [
    "### Ejercicio 3: Resaltados y HTML\n",
    "Crea una línea que contenga:\n",
    "\n",
    "1. La palabra \"resaltado\" con un fondo amarillo usando Markdown.\n",
    "2. La palabra \"color\" en azul usando HTML.\n",
    "\n",
    "Para este ejercicio tendrás que buscar un poco más en internet, venga que tú puedes."
   ]
  },
  {
   "cell_type": "markdown",
   "id": "1d15b150-8add-4a13-9fba-eace4a2645d6",
   "metadata": {},
   "source": [
    "RENAN MUNIZ\\\n",
    "Este texto tiene un <mark>resaltado</mark> y una palabra en <span style=\"color:blue\">color</span>.\n"
   ]
  },
  {
   "cell_type": "markdown",
   "id": "TVpHOgAM5WTM",
   "metadata": {
    "id": "TVpHOgAM5WTM"
   },
   "source": [
    "\n",
    "<font color=\"blue\">color</font>"
   ]
  },
  {
   "cell_type": "markdown",
   "id": "QZ9D_R3BBst_",
   "metadata": {
    "id": "QZ9D_R3BBst_"
   },
   "source": [
    "<mark>resaltado</mark>  \n",
    "<font color=\"blue\"> color </font>"
   ]
  },
  {
   "cell_type": "markdown",
   "id": "a91386ca",
   "metadata": {
    "id": "a91386ca"
   },
   "source": [
    "### Ejercicio 4: Citas\n",
    "Incluye la siguiente cita:\n",
    "\n",
    "> La Ciencia de Datos es el petróleo del siglo XXI.\n",
    "\n",
    "En uno y dos niveles de cita"
   ]
  },
  {
   "cell_type": "markdown",
   "id": "fb7958d8-5377-425e-9336-c231d5732054",
   "metadata": {},
   "source": [
    "RENAN MUNIZ  \n",
    "> La Ciencia de Datos es el petróleo del siglo XXI.\n",
    "\n",
    ">> La Ciencia de Datos es el petróleo del siglo XXI.\n"
   ]
  },
  {
   "cell_type": "markdown",
   "id": "FOvZIAc-jFY5",
   "metadata": {
    "id": "FOvZIAc-jFY5"
   },
   "source": [
    ">La Ciencia de datos es el petróleo del siglo XXI\n",
    ">>La Ciencia de Datos es el petróleo del siglo XXI"
   ]
  },
  {
   "cell_type": "markdown",
   "id": "35f0595a",
   "metadata": {
    "id": "35f0595a"
   },
   "source": [
    "### Ejercicio 5: Combinando todo\n",
    "Crea un texto que combine lo siguiente:\n",
    "\n",
    "1. Una cabecera de nivel 2 con el texto \"Curso de Markdown\".\n",
    "2. Una frase que contenga la palabra \"importante\" en negritas.\n",
    "3. Una cita que diga: \"Aprender es crecer\".\n",
    "4. La palabra \"ejemplo\" en cursivas y con un fondo verde usando HTML.\n",
    "\n",
    "Nota: Si no has sido capaz de encontrar como dar color de fondo usando HTML quizás <span style=\"background-color:yellow\">*tienes que buscar más cerca de ti*</span>\n"
   ]
  },
  {
   "cell_type": "markdown",
   "id": "67979442-78da-496f-ae11-4eeab8668986",
   "metadata": {},
   "source": [
    "RENAN MUNIZ  \n",
    "## Curso de Markdown  \n",
    "Es muy **importante** aprender Markdown  \n",
    ">Aprender es crecer\n",
    "\n",
    "<span style=\"background-color:green\">*ejemplo*</span>"
   ]
  },
  {
   "cell_type": "markdown",
   "id": "2l9hMdjx6SlC",
   "metadata": {
    "id": "2l9hMdjx6SlC"
   },
   "source": [
    "## Curso de Markdown  \n",
    "Es muy **importante** practicar lo aprendido.  \n",
    ">Aprender es crecer.\n"
   ]
  },
  {
   "cell_type": "markdown",
   "id": "RUogNLIwF9Po",
   "metadata": {
    "id": "RUogNLIwF9Po"
   },
   "source": [
    "<span style=\"background-color:lightgreen\"><i>ejemplo<i></span>  "
   ]
  },
  {
   "cell_type": "code",
   "execution_count": null,
   "id": "nBu7VwrFVMZg",
   "metadata": {
    "id": "nBu7VwrFVMZg"
   },
   "outputs": [],
   "source": [
    "#No soy capaz que se me vea con el fondo verde"
   ]
  }
 ],
 "metadata": {
  "colab": {
   "provenance": []
  },
  "kernelspec": {
   "display_name": "Python 3 (ipykernel)",
   "language": "python",
   "name": "python3"
  },
  "language_info": {
   "codemirror_mode": {
    "name": "ipython",
    "version": 3
   },
   "file_extension": ".py",
   "mimetype": "text/x-python",
   "name": "python",
   "nbconvert_exporter": "python",
   "pygments_lexer": "ipython3",
   "version": "3.13.3"
  }
 },
 "nbformat": 4,
 "nbformat_minor": 5
}
