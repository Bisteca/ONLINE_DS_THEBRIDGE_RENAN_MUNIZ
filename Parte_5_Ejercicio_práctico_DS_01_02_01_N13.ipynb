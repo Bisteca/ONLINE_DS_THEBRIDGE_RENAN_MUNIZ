{
 "cells": [
  {
   "cell_type": "markdown",
   "metadata": {
    "id": "9l3HMgm6RWxF"
   },
   "source": [
    "![TheBridge_logo_RGB_color.jpg](attachment:TheBridge_logo_RGB_color.jpg)"
   ]
  },
  {
   "cell_type": "markdown",
   "metadata": {
    "id": "RGg9iWpoRWxG"
   },
   "source": [
    "![ejercicios.png](attachment:ejercicios.png)"
   ]
  },
  {
   "cell_type": "markdown",
   "metadata": {
    "id": "AyOlWS2nRWxH"
   },
   "source": [
    "## PRACTICA OBLIGATORIA: COLECCIONES Y FUNCIONES"
   ]
  },
  {
   "cell_type": "markdown",
   "metadata": {
    "id": "6UOgb0KVRWxH"
   },
   "source": [
    "* La práctica obligatoria de esta unidad consiste varios ejercicios de programación libre a completar sobre Colecciones y Funciones. Descarga este notebook en tu ordenador y trabaja en local.  \n",
    "* Recuerda que debes subirla a tu repositorio personal antes de la sesión en vivo para que puntúe adecuadamente y puedas participar en dicha sesión.  \n",
    "* Recuerda también que no es necesario que esté perfecta, sólo es necesario que se vea el esfuerzo.\n",
    "* Esta práctica se resolverá en la sesión en vivo correspondiente y la solución se publicará en el repo del curso."
   ]
  },
  {
   "cell_type": "markdown",
   "metadata": {
    "id": "j3yu-tEjRWxH"
   },
   "source": [
    "### Contenidos"
   ]
  },
  {
   "cell_type": "markdown",
   "metadata": {
    "id": "kO-fLH39RWxH"
   },
   "source": [
    "## Ejercicio 1\n",
    "Eleva todos los elementos de la lista al cuadrado\n",
    "> ```ejer_2 = [1,2,3,4,5]```"
   ]
  },
  {
   "cell_type": "code",
   "execution_count": 3,
   "metadata": {
    "id": "ks5l3yi7RWxH"
   },
   "outputs": [
    {
     "name": "stdout",
     "output_type": "stream",
     "text": [
      "1\n",
      "4\n",
      "9\n",
      "16\n",
      "25\n"
     ]
    }
   ],
   "source": [
    "ejer_2 = [1,2,3,4,5]\n",
    "for i in ejer_2:\n",
    "    i = i* i\n",
    "    print(i)"
   ]
  },
  {
   "cell_type": "markdown",
   "metadata": {
    "id": "kI_Xr5oFRWxI"
   },
   "source": [
    "## Ejercicio 2\n",
    "Haz un programa que detecte todos los duplicados de un elemento en una lista:\n",
    "* Utiliza una variable duplicado para asignarle el valor del elemento del que queremos encontrar todos sus duplicados.\n",
    "* El programa debe devolver todos los índices de los elementos duplicados.\n",
    "* Aplícalo para encontrar los duplicados de \"un\", \"es\" y \"binario\" de:  \n",
    "\n",
    ">```ejer_3 = [\"Un\", \"árbol\", \"binario\", \"es\", \"una\", \"estructura\", \"de\", \"un\", \"tipo\", \"particular\", \"a\", \"veces\", \"no\", \"es\", \"ni\", \"binario\"]```\n"
   ]
  },
  {
   "cell_type": "code",
   "execution_count": 47,
   "metadata": {
    "id": "cLY9WB7YRWxI"
   },
   "outputs": [
    {
     "name": "stdout",
     "output_type": "stream",
     "text": [
      "Indice: 0 Un\n",
      "Indice: 2 binario\n",
      "Indice: 3 es\n",
      "Indice: 7 un\n",
      "Indice: 13 es\n",
      "Indice: 15 binario\n"
     ]
    }
   ],
   "source": [
    "ejer_3 = [\"Un\", \"árbol\", \"binario\", \"es\", \"una\", \"estructura\", \"de\", \"un\", \"tipo\", \"particular\", \"a\", \"veces\", \"no\", \"es\", \"ni\", \"binario\"]\n",
    "\n",
    "duplicado = [\"un\", \"es\", \"binario\"]\n",
    "\n",
    "for i, palabra in enumerate(ejer_3):\n",
    "    if palabra.lower() in duplicado:\n",
    "        print(\"Indice:\", i, palabra)\n",
    "    "
   ]
  },
  {
   "cell_type": "markdown",
   "metadata": {
    "id": "3WrBd5QaRWxI"
   },
   "source": [
    "## Ejercicio 3\n",
    "1. ¿Cuántas veces se repite el 3 en la siguiente tupla?\n",
    "2. Crea una tupla nueva con los elementos desde la posicion 5 a la 10.\n",
    "3. ¿Cuántos elementos tiene la tupla `ejer_3`?\n",
    "> ```ejer_9 = (3, 20, 3, 47, 19, 3, 29, 45, 67, 78, 90, 3, 3, 5, 2, 4, 7, 9, 4, 2, 4, 3, 3, 4, 6, 7)```"
   ]
  },
  {
   "cell_type": "code",
   "execution_count": 52,
   "metadata": {
    "id": "bkv_R5LYRWxI"
   },
   "outputs": [
    {
     "name": "stdout",
     "output_type": "stream",
     "text": [
      "El 3 se repite: 7 veces.\n",
      "(3, 29, 45, 67, 78, 90)\n",
      "Tiene 16 elementos.\n"
     ]
    }
   ],
   "source": [
    "ejer_9 = (3, 20, 3, 47, 19, 3, 29, 45, 67, 78, 90, 3, 3, 5, 2, 4, 7, 9, 4, 2, 4, 3, 3, 4, 6, 7)\n",
    "\n",
    "#1\n",
    "print(\"El 3 se repite:\", ejer_9.count(3), \"veces.\")\n",
    "\n",
    "#2\n",
    "nueva_tupla = ejer_9[5:11]\n",
    "print(nueva_tupla)\n",
    "\n",
    "#3\n",
    "print(\"Tiene\", len(ejer_3), \"elementos.\")"
   ]
  },
  {
   "cell_type": "markdown",
   "metadata": {
    "id": "6g8Y54AeRWxI"
   },
   "source": [
    "## Ejercicio 4\n",
    "Comprueba si el numero 60 esta en la tupla del ejercicio 3"
   ]
  },
  {
   "cell_type": "code",
   "execution_count": 54,
   "metadata": {
    "id": "F8VTEZonRWxI"
   },
   "outputs": [
    {
     "name": "stdout",
     "output_type": "stream",
     "text": [
      "No esta en la tupla\n"
     ]
    }
   ],
   "source": [
    "if 60 in ejer_9:\n",
    "    print(\"Esta en la tupla\")\n",
    "else:\n",
    "    print(\"No esta en la tupla\")"
   ]
  },
  {
   "cell_type": "markdown",
   "metadata": {
    "id": "y0fg-ZA6RWxI"
   },
   "source": [
    "## Ejercicio 5\n",
    "1. Convierte la tupla del ejercicio 3 en una lista\n",
    "2. Convierte la tupla del ejercicio 3 en un set\n",
    "3. Convierte la tupla del ejercicio 3 en un diccionario. Usa también los indices"
   ]
  },
  {
   "cell_type": "code",
   "execution_count": 61,
   "metadata": {
    "id": "_O5hXr01RWxI"
   },
   "outputs": [
    {
     "name": "stdout",
     "output_type": "stream",
     "text": [
      "[3, 20, 3, 47, 19, 3, 29, 45, 67, 78, 90, 3, 3, 5, 2, 4, 7, 9, 4, 2, 4, 3, 3, 4, 6, 7]\n",
      "{2, 3, 67, 5, 4, 7, 6, 9, 45, 78, 47, 19, 20, 90, 29}\n",
      "{0: 3, 1: 20, 2: 3, 3: 47, 4: 19, 5: 3, 6: 29, 7: 45, 8: 67, 9: 78, 10: 90, 11: 3, 12: 3, 13: 5, 14: 2, 15: 4, 16: 7, 17: 9, 18: 4, 19: 2, 20: 4, 21: 3, 22: 3, 23: 4, 24: 6, 25: 7}\n"
     ]
    }
   ],
   "source": [
    "#1\n",
    "ejer3_lista = list(ejer_9)\n",
    "print(ejer3_lista)\n",
    "\n",
    "#2\n",
    "ejer3_set = set(ejer_9)\n",
    "print(ejer3_set)\n",
    "\n",
    "#3\n",
    "ejer3_dict = dict(enumerate(ejer_9))\n",
    "print(ejer3_dict)\n"
   ]
  },
  {
   "cell_type": "markdown",
   "metadata": {
    "id": "eOdWWbxvRWxJ"
   },
   "source": [
    "## Ejercicio 6\n",
    "Multiplica todos los valores del diccionario\n",
    "> ```ejer_6 = {1: 11, 2: 22, 3: 33, 4: 44, 5: 55}```"
   ]
  },
  {
   "cell_type": "code",
   "execution_count": 5,
   "metadata": {
    "id": "KcuByovKRWxJ"
   },
   "outputs": [
    {
     "name": "stdout",
     "output_type": "stream",
     "text": [
      "19326120\n"
     ]
    }
   ],
   "source": [
    "ejer_6 = {1: 11, 2: 22, 3: 33, 4: 44, 5: 55}\n",
    "\n",
    "resultado = 1\n",
    "for x in ejer_6.values():\n",
    "    resultado = resultado * x\n",
    "print(resultado)"
   ]
  },
  {
   "cell_type": "markdown",
   "metadata": {
    "id": "W7TUSaKRRWxJ"
   },
   "source": [
    "## Ejercicio 7\n",
    "\n",
    "1. Crea un diccionario que describa un libro, con los siguientes campos o claves: \"titulo\",\"autor\",\"idioma original\",\"año de publicación\".\n",
    "2. Crea un a lista, llamada librería.\n",
    "3. Añade cuatro libros a tu elección a la librería."
   ]
  },
  {
   "cell_type": "code",
   "execution_count": 8,
   "metadata": {
    "id": "d-IMRvxRRWxJ",
    "vscode": {
     "languageId": "plaintext"
    }
   },
   "outputs": [
    {
     "name": "stdout",
     "output_type": "stream",
     "text": [
      "[{'titulo': 'El Señor de los Anillos', 'autor': 'J.R.R. Tolkien', 'idioma original': 'inglés', 'año de publicación': 1954}, {'titulo': 'Harry Potter y la piedra filosofal', 'autor': 'J.K. Rowling', 'idioma original': 'inglés', 'año de publicación': 1997}, {'titulo': 'Dune', 'autor': 'Frank Herbert', 'idioma original': 'inglés', 'año de publicación': 1965}, {'titulo': 'Las aventuras de Sherlock Holmes', 'autor': 'Sir Arthur Conan Doyle', 'idioma original': 'inglés', 'año de publicación': 1892}]\n"
     ]
    }
   ],
   "source": [
    "#1\n",
    "libro = {\n",
    "    \"titulo\": \"El hobbit\",\n",
    "    \"autor\": \"J.R.R. Tolkien\",\n",
    "    \"idioma original\": \"inglés\",\n",
    "    \"año de publicación\": 1937\n",
    "    \n",
    "}\n",
    "\n",
    "#2\n",
    "libreria = []\n",
    "\n",
    "#3\n",
    "libro1 = {\n",
    "    \"titulo\": \"El Señor de los Anillos\",\n",
    "    \"autor\": \"J.R.R. Tolkien\",\n",
    "    \"idioma original\": \"inglés\",\n",
    "    \"año de publicación\": 1954\n",
    "    \n",
    "}\n",
    "\n",
    "libro2 = {\n",
    "    \"titulo\": \"Harry Potter y la piedra filosofal\",\n",
    "    \"autor\": \"J.K. Rowling\",\n",
    "    \"idioma original\": \"inglés\",\n",
    "    \"año de publicación\": 1997\n",
    "    \n",
    "}\n",
    "\n",
    "libro3 = {\n",
    "    \"titulo\": \"Dune\",\n",
    "    \"autor\": \"Frank Herbert\",\n",
    "    \"idioma original\": \"inglés\",\n",
    "    \"año de publicación\": 1965\n",
    "    \n",
    "}\n",
    "\n",
    "libro4 = {\n",
    "    \"titulo\": \"Las aventuras de Sherlock Holmes\",\n",
    "    \"autor\": \"Sir Arthur Conan Doyle\",\n",
    "    \"idioma original\": \"inglés\",\n",
    "    \"año de publicación\": 1892\n",
    "    \n",
    "}\n",
    "\n",
    "libreria.append(libro1)\n",
    "libreria.append(libro2)\n",
    "libreria.append(libro3)\n",
    "libreria.append(libro4)\n",
    "print(libreria)"
   ]
  },
  {
   "cell_type": "markdown",
   "metadata": {
    "id": "glMoedjYRWxJ"
   },
   "source": [
    "## Ejercicio 8\n",
    "Modifica los valores del idioma de todos los libros del ejercicio anterior para que sea \"esperanto\"\n"
   ]
  },
  {
   "cell_type": "code",
   "execution_count": 18,
   "metadata": {
    "id": "veNdC-uwRWxJ"
   },
   "outputs": [
    {
     "name": "stdout",
     "output_type": "stream",
     "text": [
      "[{'titulo': 'El Señor de los Anillos', 'autor': 'J.R.R. Tolkien', 'idioma original': 'esperanto', 'año de publicación': 1954}, {'titulo': 'Harry Potter y la piedra filosofal', 'autor': 'J.K. Rowling', 'idioma original': 'esperanto', 'año de publicación': 1997}, {'titulo': 'Dune', 'autor': 'Frank Herbert', 'idioma original': 'esperanto', 'año de publicación': 1965}, {'titulo': 'Las aventuras de Sherlock Holmes', 'autor': 'Sir Arthur Conan Doyle', 'idioma original': 'esperanto', 'año de publicación': 1892}]\n"
     ]
    }
   ],
   "source": [
    "for libro in libreria:\n",
    "    libro[\"idioma original\"] = \"esperanto\"\n",
    "print(libreria)"
   ]
  },
  {
   "cell_type": "markdown",
   "metadata": {
    "id": "DRCJG04KRWxJ"
   },
   "source": [
    "## Ejercicio 9\n",
    "1. Escribe un programa que dada una variable titulo busque los libros que hay en la librería con ese título. Si no se encuentra debe devolver el mensaje `Ese no lo tengo, ¿mola?`\n",
    "2. Pruena que el programa con uno de tus libros y con otro que no contenga tu librería."
   ]
  },
  {
   "cell_type": "code",
   "execution_count": 57,
   "metadata": {
    "id": "eWHdJi9BRWxJ"
   },
   "outputs": [
    {
     "name": "stdin",
     "output_type": "stream",
     "text": [
      "Titulo del libro: Dune\n"
     ]
    },
    {
     "name": "stdout",
     "output_type": "stream",
     "text": [
      "Eso lo tenemos\n"
     ]
    },
    {
     "name": "stdin",
     "output_type": "stream",
     "text": [
      "Titulo del libro: Star Wars\n"
     ]
    },
    {
     "name": "stdout",
     "output_type": "stream",
     "text": [
      "Ese no lo tengo, mola?\n"
     ]
    }
   ],
   "source": [
    "titulo = input(\"Titulo del libro:\")\n",
    "\n",
    "for libro in libreria:\n",
    "    if titulo == libro[\"titulo\"]:\n",
    "        print(\"Eso lo tenemos\")\n",
    "        break\n",
    "else:\n",
    "        print(\"Ese no lo tengo, mola?\")\n",
    "\n",
    "titulo = input(\"Titulo del libro:\")\n",
    "\n",
    "for libro in libreria:\n",
    "    if titulo == libro[\"titulo\"]:\n",
    "        print(\"Eso lo tenemos\")\n",
    "        break\n",
    "else:\n",
    "        print(\"Ese no lo tengo, mola?\")\n"
   ]
  },
  {
   "cell_type": "markdown",
   "metadata": {
    "id": "17YOpYuFRWxJ"
   },
   "source": [
    "## Ejercicio 10\n",
    "Convierte el programa del ejercicio 2 en una función al que se le pase el valor a buscar como un argumento posicional"
   ]
  },
  {
   "cell_type": "code",
   "execution_count": 64,
   "metadata": {
    "id": "xbj0LgvnRWxJ"
   },
   "outputs": [
    {
     "name": "stdout",
     "output_type": "stream",
     "text": [
      "Indice: 0 Un\n",
      "Indice: 7 un\n"
     ]
    }
   ],
   "source": [
    "ejer_3 = [\"Un\", \"árbol\", \"binario\", \"es\", \"una\", \"estructura\", \"de\", \"un\", \"tipo\", \"particular\", \"a\", \"veces\", \"no\", \"es\", \"ni\", \"binario\"]\n",
    "\n",
    "duplicado = [\"un\", \"es\", \"binario\"]\n",
    "\n",
    "def encontrar_duplicados(palabra_buscar):\n",
    "    for i, palabra in enumerate(ejer_3):\n",
    "        if palabra.lower() == palabra_buscar.lower():\n",
    "            print(\"Indice:\", i, palabra)\n",
    "\n",
    "encontrar_duplicados(\"un\")\n",
    "    "
   ]
  },
  {
   "cell_type": "markdown",
   "metadata": {
    "id": "xZ-sWJxPRWxJ"
   },
   "source": [
    "## Ejercicio 11\n",
    "Convierte el programa del ejercicio 9 en una función al que se le pasen como argumentos la librería, posicional, y el título, argumento keyword con valor \"ninguno\", por defecto."
   ]
  },
  {
   "cell_type": "code",
   "execution_count": 73,
   "metadata": {
    "id": "4-JrsMdNRWxK"
   },
   "outputs": [
    {
     "name": "stdout",
     "output_type": "stream",
     "text": [
      "Eso lo tenemos\n"
     ]
    }
   ],
   "source": [
    "\n",
    "\n",
    "def buscar_libro(libreria, titulo=\"ninguno\"):\n",
    "    for libro in libreria:\n",
    "        if titulo == libro[\"titulo\"]:\n",
    "            print(\"Eso lo tenemos\")\n",
    "            break\n",
    "    else:\n",
    "        print(\"Ese no lo tengo, mola?\")\n",
    "buscar_libro(libreria, \"Dune\")"
   ]
  },
  {
   "cell_type": "markdown",
   "metadata": {
    "id": "FtJir95QRWxK"
   },
   "source": [
    "## Ejercicio 12\n",
    "Solicitar al usuario que ingrese su dirección email. Imprimir un mensaje indicando si la dirección es válida o no, valiéndose de una función para decidirlo. Una dirección se considerará válida si contiene el símbolo \"@\"."
   ]
  },
  {
   "cell_type": "code",
   "execution_count": 96,
   "metadata": {
    "id": "sk852IZ8RWxK"
   },
   "outputs": [
    {
     "name": "stdin",
     "output_type": "stream",
     "text": [
      "Cual es tu email? renan\n"
     ]
    },
    {
     "name": "stdout",
     "output_type": "stream",
     "text": [
      "Por favor, introduce una dirección de email válida.\n"
     ]
    },
    {
     "name": "stdin",
     "output_type": "stream",
     "text": [
      "Es correcto este email? renan  no\n"
     ]
    }
   ],
   "source": [
    "def es_email_valido(email):\n",
    "    if \"@\" in email:\n",
    "        print(\"Proceder.\")\n",
    "    else:\n",
    "        print(\"Por favor, introduce una dirección de email válida.\")\n",
    "\n",
    "email = input(\"Cual es tu email?\")\n",
    "\n",
    "es_email_valido(email)\n",
    "\n",
    "yes_no = input(f\"Es correcto este email? {email} \")\n"
   ]
  },
  {
   "cell_type": "markdown",
   "metadata": {
    "id": "Kw1MWBwBRWxK"
   },
   "source": [
    "## Ejercicio 13\n",
    "Escribe una función que compruebe si un DNI es válido, devolviendo `True` en caso afirmativo.  \n",
    "En primer lugar, el DNI debe tener entre 7 y 8 dígitos numéricos.  \n",
    "Para saber si la letra del DNI es correcta puedes utilizar el siguiente fragmento de código:\n",
    ">```Python\n",
    ">DNI= 55555555\n",
    ">palabra='TRWAGMYFPDXBNJZSQVHLCKE'\n",
    ">print('La letra del DNI es: ', palabra[DNI%23])\n",
    ">````\n"
   ]
  },
  {
   "cell_type": "code",
   "execution_count": 126,
   "metadata": {
    "id": "F5Z9rSHqRWxK"
   },
   "outputs": [
    {
     "name": "stdout",
     "output_type": "stream",
     "text": [
      "False\n"
     ]
    }
   ],
   "source": [
    "def dni_valido(dni):\n",
    "    palabra = 'TRWAGMYFPDXBNJZSQVHLCKE'\n",
    "    \n",
    "    if len(dni) < 8 or len(dni) > 9:\n",
    "        return False\n",
    "\n",
    "    numero = dni[:-1]\n",
    "    letra = dni[-1].upper()\n",
    "\n",
    "    if not numero.isdigit():\n",
    "        return False\n",
    "\n",
    "    numero = int(numero)\n",
    "    letra_correcta = palabra[numero % 23]\n",
    "\n",
    "    return letra == letra_correcta\n",
    "\n",
    "print(dni_valido(\"1234567z\"))  \n"
   ]
  },
  {
   "cell_type": "code",
   "execution_count": null,
   "metadata": {},
   "outputs": [],
   "source": []
  },
  {
   "cell_type": "code",
   "execution_count": null,
   "metadata": {},
   "outputs": [],
   "source": []
  },
  {
   "cell_type": "code",
   "execution_count": null,
   "metadata": {},
   "outputs": [],
   "source": []
  },
  {
   "cell_type": "code",
   "execution_count": null,
   "metadata": {},
   "outputs": [],
   "source": []
  }
 ],
 "metadata": {
  "colab": {
   "provenance": []
  },
  "kernelspec": {
   "display_name": "Python 3 (ipykernel)",
   "language": "python",
   "name": "python3"
  },
  "language_info": {
   "codemirror_mode": {
    "name": "ipython",
    "version": 3
   },
   "file_extension": ".py",
   "mimetype": "text/x-python",
   "name": "python",
   "nbconvert_exporter": "python",
   "pygments_lexer": "ipython3",
   "version": "3.13.3"
  }
 },
 "nbformat": 4,
 "nbformat_minor": 4
}
